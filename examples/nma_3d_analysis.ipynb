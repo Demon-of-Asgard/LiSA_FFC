{
 "cells": [
  {
   "cell_type": "code",
   "execution_count": 24,
   "metadata": {},
   "outputs": [],
   "source": [
    "import sys\n",
    "import numpy as np\n",
    "import scipy.integrate as sint\n",
    "import matplotlib.pyplot as plt\n",
    "from typing import (Union, List, Tuple)"
   ]
  },
  {
   "cell_type": "code",
   "execution_count": 25,
   "metadata": {},
   "outputs": [],
   "source": [
    "# Add module pathe to python search path \n",
    "sys.path.append(\"/Users/manu/Projects/LiSA_FFC/\")\n",
    "# Import lisa\n",
    "from lisa import lisa_3d as nma"
   ]
  },
  {
   "cell_type": "code",
   "execution_count": 26,
   "metadata": {},
   "outputs": [],
   "source": [
    "# specify angular grids and\n",
    "# angular distribution parameters\n",
    "vzmin, vzmax = -1, 1\n",
    "phmin, phmax = -np.pi, np.pi\n",
    "nvz, nph = 32, 8\n",
    "dvz, dph = (vzmax - vzmin) / nvz, (phmax - phmin) / nph\n",
    "vzs = vzmin + (0.5 + np.arange(nvz)) * dvz\n",
    "phs = phmin + (0.5 + np.arange(nph)) * dph\n",
    "phasespace_fac = 1.0 / (2.0 * np.pi)\n",
    "fluxangle = 30 * np.pi / 180.0"
   ]
  },
  {
   "cell_type": "markdown",
   "metadata": {},
   "source": [
    "We here use to the fiducial angular distribution used in arXiv: "
   ]
  },
  {
   "cell_type": "code",
   "execution_count": 27,
   "metadata": {},
   "outputs": [],
   "source": [
    "# Angular distribution\n",
    "def f(vz, ph=0, sig=0.6):\n",
    "    return np.exp(-(vz-1)**2/(2*sig**2)) "
   ]
  },
  {
   "cell_type": "code",
   "execution_count": null,
   "metadata": {},
   "outputs": [],
   "source": [
    "N = sint.dblquad(f, phmin, phmax, vzmin, vzmax, args=(0.6,))[0] * phasespace_fac\n",
    "bN = sint.dblquad(f, phmin, phmax, vzmin, vzmax, args=(0.5,))[0] * phasespace_fac\n",
    "\n",
    "print(f\"{N=:1.16E}\\n{bN=:1.16E}\")"
   ]
  },
  {
   "cell_type": "code",
   "execution_count": 29,
   "metadata": {},
   "outputs": [],
   "source": [
    "# ELN\n",
    "def ELN(vz: Union[float, np.ndarray[float]], phi: Union[float, np.ndarray[float]],\n",
    "        signu: float = 0.6, siganu: float = 0.5, alpha: float = 0.9,\n",
    "        N: float = 0.7513431855316718, bN: float = 0.6266173746426144,\n",
    "        fluxangle=fluxangle) -> Union[float, np.ndarray[float]]:\n",
    "\n",
    "    vx = np.sqrt(1.0 - vz**2) * np.cos(phi)\n",
    "    vy = np.sqrt(1.0 - vz**2) * np.sin(phi)\n",
    "\n",
    "    cr= np.cos(fluxangle)\n",
    "    sr = np.sin(fluxangle)\n",
    "\n",
    "    vzr_n = vz\n",
    "    vzr_an = -sr * vx + cr * vz\n",
    "\n",
    "    return f(vz=vzr_n, sig=signu)/N - alpha * f(vz=vzr_an, sig=siganu) / bN"
   ]
  },
  {
   "cell_type": "code",
   "execution_count": null,
   "metadata": {},
   "outputs": [],
   "source": [
    "eln_params = {\n",
    "    'ELN': ELN,\n",
    "    'vz_range': (vzmin, vzmax),\n",
    "    'phi_range': (phmin, phmax),\n",
    "    'nvz': nvz,\n",
    "    'nphi': nph,\n",
    "}\n",
    "\n",
    "kxs = np.fft.fftshift(np.fft.fftfreq(n=100, d=1.0))\n",
    "kys = np.fft.fftshift(np.fft.fftfreq(n=100, d=1.0))\n",
    "kzs = np.fft.fftshift(np.fft.fftfreq(n=100, d=1.0))\n",
    "\n",
    "lsa = nma.NMA_3D(ELN_params=eln_params)\n",
    "\n",
    "store_to = f\"lsa_{fluxangle*(180/np.pi):.0f}.dat\"\n",
    "\n",
    "lsa.run(\n",
    "    kxs=kxs,\n",
    "    kys=kys,\n",
    "    kzs=kzs,\n",
    "    store_to=store_to,\n",
    ")\n",
    "\n",
    "print(f\"Results stored at {store_to}\")\n"
   ]
  }
 ],
 "metadata": {
  "kernelspec": {
   "display_name": "standard",
   "language": "python",
   "name": "python3"
  },
  "language_info": {
   "codemirror_mode": {
    "name": "ipython",
    "version": 3
   },
   "file_extension": ".py",
   "mimetype": "text/x-python",
   "name": "python",
   "nbconvert_exporter": "python",
   "pygments_lexer": "ipython3",
   "version": "3.12.5"
  }
 },
 "nbformat": 4,
 "nbformat_minor": 2
}
